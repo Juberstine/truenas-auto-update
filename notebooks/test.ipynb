{
 "cells": [
  {
   "cell_type": "code",
   "execution_count": 101,
   "metadata": {},
   "outputs": [],
   "source": [
    "import requests\n",
    "import logging\n",
    "import time\n",
    "import os\n",
    "\n",
    "from dotenv import load_dotenv\n",
    "\n",
    "load_dotenv()\n",
    "\n",
    "logging.basicConfig(level=logging.INFO)\n",
    "logger = logging.getLogger(__name__)\n"
   ]
  },
  {
   "cell_type": "code",
   "execution_count": 102,
   "metadata": {},
   "outputs": [],
   "source": [
    "BASE_URL = os.getenv(\"BASE_URL\")\n",
    "API_KEY = os.getenv(\"API_KEY\")\n"
   ]
  },
  {
   "cell_type": "code",
   "execution_count": 103,
   "metadata": {},
   "outputs": [
    {
     "name": "stderr",
     "output_type": "stream",
     "text": [
      "/Users/mvr/miniconda3/lib/python3.11/site-packages/urllib3/connectionpool.py:1056: InsecureRequestWarning: Unverified HTTPS request is being made to host 'nas'. Adding certificate verification is strongly advised. See: https://urllib3.readthedocs.io/en/1.26.x/advanced-usage.html#ssl-warnings\n",
      "  warnings.warn(\n"
     ]
    }
   ],
   "source": [
    "response = requests.get(f\"{BASE_URL}/app\", headers={\"Authorization\": f\"Bearer {API_KEY}\"}, verify=False)\n",
    "\n",
    "\n",
    "apps = response.json()\n"
   ]
  },
  {
   "cell_type": "code",
   "execution_count": 97,
   "metadata": {},
   "outputs": [
    {
     "data": {
      "text/plain": [
       "[{'name': 'lobe-chat',\n",
       "  'id': 'lobe-chat',\n",
       "  'active_workloads': {'containers': 1,\n",
       "   'used_ports': [{'container_port': 3210,\n",
       "     'protocol': 'tcp',\n",
       "     'host_ports': [{'host_port': 3210, 'host_ip': '0.0.0.0'}]}],\n",
       "   'container_details': [{'service_name': 'lobe-chat',\n",
       "     'image': 'lobehub/lobe-chat:latest',\n",
       "     'port_config': [{'container_port': 3210,\n",
       "       'protocol': 'tcp',\n",
       "       'host_ports': [{'host_port': 3210, 'host_ip': '0.0.0.0'}]}],\n",
       "     'state': 'running',\n",
       "     'volume_mounts': [],\n",
       "     'id': 'eb7c3f2ccf19a0afa486b8ddc43c4fae6c88757125228a1a4a391faea885931d'}],\n",
       "   'volumes': [],\n",
       "   'images': ['lobehub/lobe-chat:latest']},\n",
       "  'state': 'RUNNING',\n",
       "  'upgrade_available': True,\n",
       "  'image_updates_available': False,\n",
       "  'custom_app': False,\n",
       "  'human_version': '1.0.0_1.0.14',\n",
       "  'metadata': {'app_version': '1.0.0',\n",
       "   'capabilities': [],\n",
       "   'categories': ['custom'],\n",
       "   'description': 'An application for deploying simple containers.',\n",
       "   'home': 'https://www.truenas.com/',\n",
       "   'host_mounts': [],\n",
       "   'icon': 'https://media.sys.truenas.net/apps/ix-chart/icons/icon.webp',\n",
       "   'keywords': [],\n",
       "   'last_update': '2024-11-26 08:34:34',\n",
       "   'lib_version': '1.1.7',\n",
       "   'lib_version_hash': 'd05e43e25b7dc1736be6cc1efa4b9255368aa346e3e7a4350a38440f29b73186',\n",
       "   'maintainers': [{'email': 'dev@ixsystems.com',\n",
       "     'name': 'truenas',\n",
       "     'url': 'https://www.truenas.com/'}],\n",
       "   'name': 'ix-app',\n",
       "   'run_as_context': [],\n",
       "   'screenshots': [],\n",
       "   'sources': [],\n",
       "   'title': 'iX App',\n",
       "   'train': 'stable',\n",
       "   'version': '1.0.14'},\n",
       "  'migrated': False,\n",
       "  'notes': '# Welcome to TrueNAS SCALE\\n\\nThank you for installing iX App!\\n\\n\\n\\n\\n## Documentation\\n\\nDocumentation for iX App can be found at https://www.truenas.com/docs.\\n\\n## Bug reports\\n\\nIf you find a bug in this app, please file an issue at\\nhttps://ixsystems.atlassian.net or https://github.com/truenas/apps\\n\\n## Feature requests or improvements\\n\\nIf you find a feature request for this app, please file an issue at\\nhttps://ixsystems.atlassian.net or https://github.com/truenas/apps\\n',\n",
       "  'portals': {},\n",
       "  'version': '1.0.14'},\n",
       " {'name': 'portainer',\n",
       "  'id': 'portainer',\n",
       "  'active_workloads': {'containers': 0,\n",
       "   'used_ports': [],\n",
       "   'container_details': [],\n",
       "   'volumes': [],\n",
       "   'images': []},\n",
       "  'state': 'STOPPED',\n",
       "  'upgrade_available': True,\n",
       "  'image_updates_available': False,\n",
       "  'custom_app': False,\n",
       "  'human_version': '2.24.0_1.2.20',\n",
       "  'metadata': {'app_version': '2.24.0',\n",
       "   'capabilities': [{'description': 'Portainer is able to chown files.',\n",
       "     'name': 'CHOWN'},\n",
       "    {'description': 'Portainer is able to bypass permission checks.',\n",
       "     'name': 'DAC_OVERRIDE'},\n",
       "    {'description': \"Portainer is able to bypass permission checks for it's sub-processes.\",\n",
       "     'name': 'FOWNER'},\n",
       "    {'description': 'Portainer is able to kill processes.', 'name': 'KILL'},\n",
       "    {'description': 'Portainer is able to set group ids.', 'name': 'SETGID'},\n",
       "    {'description': 'Portainer is able to set user ids.', 'name': 'SETUID'},\n",
       "    {'description': 'Portainer is able to set capabilities.',\n",
       "     'name': 'SETPCAP'},\n",
       "    {'description': 'Portainer is able to set file capabilities.',\n",
       "     'name': 'SETFCAP'}],\n",
       "   'categories': ['management'],\n",
       "   'description': 'Container management made easy',\n",
       "   'home': 'https://www.portainer.io',\n",
       "   'host_mounts': [{'description': 'Docker socket',\n",
       "     'host_path': '/var/run/docker.sock'}],\n",
       "   'icon': 'https://media.sys.truenas.net/apps/portainer/icons/icon.png',\n",
       "   'keywords': ['docker', 'compose', 'container'],\n",
       "   'last_update': '2024-11-26 08:34:34',\n",
       "   'lib_version': '1.1.7',\n",
       "   'lib_version_hash': 'd05e43e25b7dc1736be6cc1efa4b9255368aa346e3e7a4350a38440f29b73186',\n",
       "   'maintainers': [{'email': 'dev@ixsystems.com',\n",
       "     'name': 'truenas',\n",
       "     'url': 'https://www.truenas.com/'}],\n",
       "   'name': 'portainer',\n",
       "   'run_as_context': [{'description': 'Portainer runs as root user.',\n",
       "     'gid': 0,\n",
       "     'group_name': 'root',\n",
       "     'uid': 0,\n",
       "     'user_name': 'root'}],\n",
       "   'screenshots': ['https://media.sys.truenas.net/apps/portainer/screenshots/screenshot1.png',\n",
       "    'https://media.sys.truenas.net/apps/portainer/screenshots/screenshot2.png'],\n",
       "   'sources': ['https://www.portainer.io',\n",
       "    'https://github.com/portainer/portainer'],\n",
       "   'title': 'Portainer',\n",
       "   'train': 'community',\n",
       "   'version': '1.2.20'},\n",
       "  'migrated': False,\n",
       "  'notes': '# Welcome to TrueNAS SCALE\\n\\nThank you for installing Portainer!\\n\\n\\n\\n\\n## Documentation\\n\\nDocumentation for Portainer can be found at https://www.truenas.com/docs.\\n\\n## Bug reports\\n\\nIf you find a bug in this app, please file an issue at\\nhttps://ixsystems.atlassian.net or https://github.com/truenas/apps\\n\\n## Feature requests or improvements\\n\\nIf you find a feature request for this app, please file an issue at\\nhttps://ixsystems.atlassian.net or https://github.com/truenas/apps\\n',\n",
       "  'portals': {'Web UI': 'https://0.0.0.0:31015/'},\n",
       "  'version': '1.2.20'}]"
      ]
     },
     "execution_count": 97,
     "metadata": {},
     "output_type": "execute_result"
    }
   ],
   "source": [
    "apps_with_upgrade = [app for app in apps if app[\"upgrade_available\"]]\n",
    "\n",
    "apps_with_upgrade\n"
   ]
  },
  {
   "cell_type": "code",
   "execution_count": 98,
   "metadata": {},
   "outputs": [
    {
     "data": {
      "text/plain": [
       "{'name': 'lobe-chat',\n",
       " 'id': 'lobe-chat',\n",
       " 'active_workloads': {'containers': 1,\n",
       "  'used_ports': [{'container_port': 3210,\n",
       "    'protocol': 'tcp',\n",
       "    'host_ports': [{'host_port': 3210, 'host_ip': '0.0.0.0'}]}],\n",
       "  'container_details': [{'service_name': 'lobe-chat',\n",
       "    'image': 'lobehub/lobe-chat:latest',\n",
       "    'port_config': [{'container_port': 3210,\n",
       "      'protocol': 'tcp',\n",
       "      'host_ports': [{'host_port': 3210, 'host_ip': '0.0.0.0'}]}],\n",
       "    'state': 'running',\n",
       "    'volume_mounts': [],\n",
       "    'id': 'eb7c3f2ccf19a0afa486b8ddc43c4fae6c88757125228a1a4a391faea885931d'}],\n",
       "  'volumes': [],\n",
       "  'images': ['lobehub/lobe-chat:latest']},\n",
       " 'state': 'RUNNING',\n",
       " 'upgrade_available': True,\n",
       " 'image_updates_available': False,\n",
       " 'custom_app': False,\n",
       " 'human_version': '1.0.0_1.0.14',\n",
       " 'metadata': {'app_version': '1.0.0',\n",
       "  'capabilities': [],\n",
       "  'categories': ['custom'],\n",
       "  'description': 'An application for deploying simple containers.',\n",
       "  'home': 'https://www.truenas.com/',\n",
       "  'host_mounts': [],\n",
       "  'icon': 'https://media.sys.truenas.net/apps/ix-chart/icons/icon.webp',\n",
       "  'keywords': [],\n",
       "  'last_update': '2024-11-26 08:34:34',\n",
       "  'lib_version': '1.1.7',\n",
       "  'lib_version_hash': 'd05e43e25b7dc1736be6cc1efa4b9255368aa346e3e7a4350a38440f29b73186',\n",
       "  'maintainers': [{'email': 'dev@ixsystems.com',\n",
       "    'name': 'truenas',\n",
       "    'url': 'https://www.truenas.com/'}],\n",
       "  'name': 'ix-app',\n",
       "  'run_as_context': [],\n",
       "  'screenshots': [],\n",
       "  'sources': [],\n",
       "  'title': 'iX App',\n",
       "  'train': 'stable',\n",
       "  'version': '1.0.14'},\n",
       " 'migrated': False,\n",
       " 'notes': '# Welcome to TrueNAS SCALE\\n\\nThank you for installing iX App!\\n\\n\\n\\n\\n## Documentation\\n\\nDocumentation for iX App can be found at https://www.truenas.com/docs.\\n\\n## Bug reports\\n\\nIf you find a bug in this app, please file an issue at\\nhttps://ixsystems.atlassian.net or https://github.com/truenas/apps\\n\\n## Feature requests or improvements\\n\\nIf you find a feature request for this app, please file an issue at\\nhttps://ixsystems.atlassian.net or https://github.com/truenas/apps\\n',\n",
       " 'portals': {},\n",
       " 'version': '1.0.14'}"
      ]
     },
     "execution_count": 98,
     "metadata": {},
     "output_type": "execute_result"
    }
   ],
   "source": [
    "apps_with_upgrade[0]"
   ]
  },
  {
   "cell_type": "code",
   "execution_count": 99,
   "metadata": {},
   "outputs": [
    {
     "name": "stderr",
     "output_type": "stream",
     "text": [
      "INFO:__main__:Upgrading lobe-chat...\n",
      "/Users/mvr/miniconda3/lib/python3.11/site-packages/urllib3/connectionpool.py:1056: InsecureRequestWarning: Unverified HTTPS request is being made to host 'nas'. Adding certificate verification is strongly advised. See: https://urllib3.readthedocs.io/en/1.26.x/advanced-usage.html#ssl-warnings\n",
      "  warnings.warn(\n",
      "INFO:__main__:Waiting for job 27971 to complete...\n",
      "/Users/mvr/miniconda3/lib/python3.11/site-packages/urllib3/connectionpool.py:1056: InsecureRequestWarning: Unverified HTTPS request is being made to host 'nas'. Adding certificate verification is strongly advised. See: https://urllib3.readthedocs.io/en/1.26.x/advanced-usage.html#ssl-warnings\n",
      "  warnings.warn(\n",
      "INFO:__main__:Upgrade of lobe-chat completed successfully\n",
      "INFO:__main__:Upgrading portainer...\n",
      "/Users/mvr/miniconda3/lib/python3.11/site-packages/urllib3/connectionpool.py:1056: InsecureRequestWarning: Unverified HTTPS request is being made to host 'nas'. Adding certificate verification is strongly advised. See: https://urllib3.readthedocs.io/en/1.26.x/advanced-usage.html#ssl-warnings\n",
      "  warnings.warn(\n",
      "INFO:__main__:Waiting for job 27973 to complete...\n",
      "/Users/mvr/miniconda3/lib/python3.11/site-packages/urllib3/connectionpool.py:1056: InsecureRequestWarning: Unverified HTTPS request is being made to host 'nas'. Adding certificate verification is strongly advised. See: https://urllib3.readthedocs.io/en/1.26.x/advanced-usage.html#ssl-warnings\n",
      "  warnings.warn(\n",
      "INFO:__main__:Upgrade of portainer completed successfully\n"
     ]
    },
    {
     "name": "stdout",
     "output_type": "stream",
     "text": [
      "27972\n",
      "27974\n"
     ]
    }
   ],
   "source": [
    "def await_job(job_id):\n",
    "    logger.info(f\"Waiting for job {job_id} to complete...\")\n",
    "    return requests.post(f\"{BASE_URL}/core/job_wait\", headers={\"Authorization\": f\"Bearer {API_KEY}\"}, json=job_id, verify=False)\n",
    "\n",
    "\n",
    "\n",
    "for app in apps_with_upgrade:    \n",
    "    logger.info(f\"Upgrading {app['name']}...\")\n",
    "    response = requests.post(f\"{BASE_URL}/app/upgrade\", headers={\"Authorization\": f\"Bearer {API_KEY}\"}, json={\"app_name\": app[\"id\"]}, verify=False)\n",
    "\n",
    "    job_id = response.text\n",
    "    response =await_job(job_id)\n",
    "    \n",
    "    if response.status_code == 200:\n",
    "        logger.info(f\"Upgrade of {app['name']} triggered successfully\")\n",
    "    else:\n",
    "        logger.error(f\"Failed to upgrade {app['name']}: {response.status_code}\")\n",
    "        \n",
    "    time.sleep(1)\n",
    "    \n",
    "logger.info(\"Done\")\n",
    "\n"
   ]
  },
  {
   "cell_type": "code",
   "execution_count": null,
   "metadata": {},
   "outputs": [],
   "source": []
  }
 ],
 "metadata": {
  "kernelspec": {
   "display_name": "base",
   "language": "python",
   "name": "python3"
  },
  "language_info": {
   "codemirror_mode": {
    "name": "ipython",
    "version": 3
   },
   "file_extension": ".py",
   "mimetype": "text/x-python",
   "name": "python",
   "nbconvert_exporter": "python",
   "pygments_lexer": "ipython3",
   "version": "3.11.8"
  }
 },
 "nbformat": 4,
 "nbformat_minor": 2
}
